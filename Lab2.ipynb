{
  "nbformat": 4,
  "nbformat_minor": 0,
  "metadata": {
    "colab": {
      "provenance": [],
      "collapsed_sections": [],
      "authorship_tag": "ABX9TyOu14xw6wn9GZtYUK4oNNtV",
      "include_colab_link": true
    },
    "kernelspec": {
      "name": "python3",
      "display_name": "Python 3"
    },
    "language_info": {
      "name": "python"
    }
  },
  "cells": [
    {
      "cell_type": "markdown",
      "metadata": {
        "id": "view-in-github",
        "colab_type": "text"
      },
      "source": [
        "<a href=\"https://colab.research.google.com/github/ElizaDudziak/ComputerVision/blob/main/Lab2.ipynb\" target=\"_parent\"><img src=\"https://colab.research.google.com/assets/colab-badge.svg\" alt=\"Open In Colab\"/></a>"
      ]
    },
    {
      "cell_type": "code",
      "execution_count": 6,
      "metadata": {
        "colab": {
          "base_uri": "https://localhost:8080/"
        },
        "id": "dsOdO5YxbGM_",
        "outputId": "e84cc635-b08d-49bb-c7bf-c9077a9eee00"
      },
      "outputs": [
        {
          "output_type": "stream",
          "name": "stdout",
          "text": [
            "Hi I'm Eliza\n"
          ]
        }
      ],
      "source": [
        "print (\"Hi I'm Eliza\")"
      ]
    },
    {
      "cell_type": "code",
      "source": [
        "(328 * 68)/23 + (2**10)"
      ],
      "metadata": {
        "colab": {
          "base_uri": "https://localhost:8080/"
        },
        "id": "ba3zw66DymBQ",
        "outputId": "bec0582e-7f1d-4c7f-fc6c-c08e347fc205"
      },
      "execution_count": 2,
      "outputs": [
        {
          "output_type": "execute_result",
          "data": {
            "text/plain": [
              "1993.7391304347825"
            ]
          },
          "metadata": {},
          "execution_count": 2
        }
      ]
    },
    {
      "cell_type": "code",
      "source": [
        "x = ['A', 'B', 'C', 4]"
      ],
      "metadata": {
        "id": "LN2gAsAvz6J1"
      },
      "execution_count": 3,
      "outputs": []
    },
    {
      "cell_type": "code",
      "source": [
        "list (x)"
      ],
      "metadata": {
        "colab": {
          "base_uri": "https://localhost:8080/"
        },
        "id": "3apwLsUG0B1c",
        "outputId": "032380b2-ff4d-4f2f-b28d-3788cecffb95"
      },
      "execution_count": null,
      "outputs": [
        {
          "output_type": "execute_result",
          "data": {
            "text/plain": [
              "['A', 'B', 'C', 4]"
            ]
          },
          "metadata": {},
          "execution_count": 7
        }
      ]
    },
    {
      "cell_type": "code",
      "source": [
        "for i in x:\n",
        "  print(i)"
      ],
      "metadata": {
        "colab": {
          "base_uri": "https://localhost:8080/"
        },
        "id": "7tcwbkGy2k3x",
        "outputId": "e8d289d0-7db6-4153-98e7-100262e0193f"
      },
      "execution_count": 4,
      "outputs": [
        {
          "output_type": "stream",
          "name": "stdout",
          "text": [
            "A\n",
            "B\n",
            "C\n",
            "4\n"
          ]
        }
      ]
    },
    {
      "cell_type": "code",
      "source": [
        "def PrintElementList(word):\n",
        "  for x in range(3):\n",
        "    print(word)\n",
        "\n",
        "\n",
        "PrintElementList(['A', 'B', 'C', 4])\n",
        "PrintElementList(1000)\n",
        "\n",
        "\n",
        "  "
      ],
      "metadata": {
        "colab": {
          "base_uri": "https://localhost:8080/"
        },
        "id": "-5-z2di83C6_",
        "outputId": "84d06e5c-eee6-4df9-e778-ac727f81f18a"
      },
      "execution_count": 20,
      "outputs": [
        {
          "output_type": "stream",
          "name": "stdout",
          "text": [
            "['A', 'B', 'C', 4]\n",
            "['A', 'B', 'C', 4]\n",
            "['A', 'B', 'C', 4]\n",
            "1000\n",
            "1000\n",
            "1000\n"
          ]
        }
      ]
    },
    {
      "cell_type": "code",
      "source": [
        "# Function definitions\n",
        "def PrintThreeTimes():\n",
        "  \"\"\"This will print hello three times \"\"\"\n",
        "  for x in ['I', 'like', 'Milk duds']:\n",
        "    print(\"hello\")\n",
        "    \n",
        "PrintThreeTimes()"
      ],
      "metadata": {
        "colab": {
          "base_uri": "https://localhost:8080/"
        },
        "id": "B1Hgg7mECeFx",
        "outputId": "019366dc-1655-4534-b267-aa55b406ae61"
      },
      "execution_count": 5,
      "outputs": [
        {
          "output_type": "stream",
          "name": "stdout",
          "text": [
            "hello\n",
            "hello\n",
            "hello\n"
          ]
        }
      ]
    },
    {
      "cell_type": "code",
      "source": [
        "def PrintThreeTimes(word):\n",
        "  for x in range(3):\n",
        "    print(word)\n",
        "\n",
        "PrintThreeTimes('Bitconnect!')\n",
        "PrintThreeTimes('YASS!')"
      ],
      "metadata": {
        "colab": {
          "base_uri": "https://localhost:8080/"
        },
        "id": "D4NRQeawEMRy",
        "outputId": "f2dc8a08-0610-4564-a132-17334c9597b3"
      },
      "execution_count": 13,
      "outputs": [
        {
          "output_type": "stream",
          "name": "stdout",
          "text": [
            "Bitconnect!\n",
            "Bitconnect!\n",
            "Bitconnect!\n",
            "YASS!\n",
            "YASS!\n",
            "YASS!\n"
          ]
        }
      ]
    }
  ]
}