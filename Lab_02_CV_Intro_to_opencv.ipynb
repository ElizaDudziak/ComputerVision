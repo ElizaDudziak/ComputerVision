{
  "nbformat": 4,
  "nbformat_minor": 0,
  "metadata": {
    "colab": {
      "provenance": [],
      "collapsed_sections": [],
      "authorship_tag": "ABX9TyNERSQALSv8SFeWWpSHViFV",
      "include_colab_link": true
    },
    "kernelspec": {
      "name": "python3",
      "display_name": "Python 3"
    },
    "language_info": {
      "name": "python"
    }
  },
  "cells": [
    {
      "cell_type": "markdown",
      "metadata": {
        "id": "view-in-github",
        "colab_type": "text"
      },
      "source": [
        "<a href=\"https://colab.research.google.com/github/ElizaDudziak/ComputerVision/blob/main/Lab_02_CV_Intro_to_opencv.ipynb\" target=\"_parent\"><img src=\"https://colab.research.google.com/assets/colab-badge.svg\" alt=\"Open In Colab\"/></a>"
      ]
    },
    {
      "cell_type": "markdown",
      "source": [
        "#### This notebook will show the basics of the OpenCV toolkit.\n",
        "\n",
        "[OpenCV webpage](https://opencv.org)"
      ],
      "metadata": {
        "id": "cTXL0XM3JY04"
      }
    },
    {
      "cell_type": "code",
      "execution_count": null,
      "metadata": {
        "id": "lyoN_T6cJXxZ"
      },
      "outputs": [],
      "source": []
    }
  ]
}