{
  "nbformat": 4,
  "nbformat_minor": 0,
  "metadata": {
    "colab": {
      "provenance": [],
      "collapsed_sections": [],
      "authorship_tag": "ABX9TyNTw6mMZo7+wSXUi1jJ3vLZ",
      "include_colab_link": true
    },
    "kernelspec": {
      "name": "python3",
      "display_name": "Python 3"
    },
    "language_info": {
      "name": "python"
    }
  },
  "cells": [
    {
      "cell_type": "markdown",
      "metadata": {
        "id": "view-in-github",
        "colab_type": "text"
      },
      "source": [
        "<a href=\"https://colab.research.google.com/github/ElizaDudziak/ComputerVision/blob/main/Lab_02_CV_Intro_to_opencv.ipynb\" target=\"_parent\"><img src=\"https://colab.research.google.com/assets/colab-badge.svg\" alt=\"Open In Colab\"/></a>"
      ]
    },
    {
      "cell_type": "markdown",
      "source": [
        "#### This notebook will show the basics of the OpenCV toolkit.\n",
        "\n",
        "[OpenCV webpage](https://opencv.org)"
      ],
      "metadata": {
        "id": "cTXL0XM3JY04"
      }
    },
    {
      "cell_type": "code",
      "execution_count": 1,
      "metadata": {
        "colab": {
          "base_uri": "https://localhost:8080/"
        },
        "id": "lyoN_T6cJXxZ",
        "outputId": "f3d473c2-92fa-4ce5-ae6c-4a2d3a3a374c"
      },
      "outputs": [
        {
          "output_type": "stream",
          "name": "stdout",
          "text": [
            "loaded OpenCV module\n"
          ]
        }
      ],
      "source": [
        "import cv2\n",
        "print('loaded OpenCV module')"
      ]
    },
    {
      "cell_type": "code",
      "source": [
        "# How to copy an image/file to our colab environment\n",
        "# We will use the wget shell command\n",
        "!wget 'https://upload.wikimedia.org/wikipedia/en/7/7d/Lenna_%28test_image%29.png'"
      ],
      "metadata": {
        "colab": {
          "base_uri": "https://localhost:8080/"
        },
        "id": "ybEfiGR8KWY-",
        "outputId": "cbd9446b-df70-4097-dfc7-a47d8c5474ca"
      },
      "execution_count": 5,
      "outputs": [
        {
          "output_type": "stream",
          "name": "stdout",
          "text": [
            "--2022-09-02 17:11:20--  https://upload.wikimedia.org/wikipedia/en/7/7d/Lenna_%28test_image%29.png\n",
            "Resolving upload.wikimedia.org (upload.wikimedia.org)... 198.35.26.112, 2620:0:863:ed1a::2:b\n",
            "Connecting to upload.wikimedia.org (upload.wikimedia.org)|198.35.26.112|:443... connected.\n",
            "HTTP request sent, awaiting response... 200 OK\n",
            "Length: 473831 (463K) [image/png]\n",
            "Saving to: ‘Lenna_(test_image).png’\n",
            "\n",
            "Lenna_(test_image). 100%[===================>] 462.73K  --.-KB/s    in 0.07s   \n",
            "\n",
            "2022-09-02 17:11:20 (6.24 MB/s) - ‘Lenna_(test_image).png’ saved [473831/473831]\n",
            "\n"
          ]
        }
      ]
    },
    {
      "cell_type": "code",
      "source": [
        "!ls"
      ],
      "metadata": {
        "colab": {
          "base_uri": "https://localhost:8080/"
        },
        "id": "5C_EZkloL6jy",
        "outputId": "a1c3ff03-6512-48cb-d3fd-78b215853dbe"
      },
      "execution_count": 6,
      "outputs": [
        {
          "output_type": "stream",
          "name": "stdout",
          "text": [
            " images  'Lenna_(test_image).png'   sample_data\n"
          ]
        }
      ]
    }
  ]
}